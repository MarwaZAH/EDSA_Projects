{
  "nbformat": 4,
  "nbformat_minor": 0,
  "metadata": {
    "colab": {
      "name": "Ridge Regression Homework.ipynb",
      "provenance": [],
      "collapsed_sections": [],
      "authorship_tag": "ABX9TyOeTN3j2hyrDW8SlAahM97D",
      "include_colab_link": true
    },
    "kernelspec": {
      "name": "python3",
      "display_name": "Python 3"
    },
    "language_info": {
      "name": "python"
    }
  },
  "cells": [
    {
      "cell_type": "markdown",
      "metadata": {
        "id": "view-in-github",
        "colab_type": "text"
      },
      "source": [
        "<a href=\"https://colab.research.google.com/github/MarwaZAH/EDSA_Projects/blob/main/Ridge_Regression_Homework.ipynb\" target=\"_parent\"><img src=\"https://colab.research.google.com/assets/colab-badge.svg\" alt=\"Open In Colab\"/></a>"
      ]
    },
    {
      "cell_type": "code",
      "metadata": {
        "id": "LPSppzOO8c51"
      },
      "source": [
        "### Setting Up the Workspace\n",
        "\n",
        "import pandas as pd\n",
        "import numpy as np\n",
        "import matplotlib.pyplot as plt\n",
        "import seaborn as sns\n",
        "%matplotlib inline"
      ],
      "execution_count": 1,
      "outputs": []
    },
    {
      "cell_type": "code",
      "metadata": {
        "id": "IHi2gAJUEcQt"
      },
      "source": [
        "##### Linear Regression ######"
      ],
      "execution_count": null,
      "outputs": []
    },
    {
      "cell_type": "code",
      "metadata": {
        "id": "LRFofEvb8fNk"
      },
      "source": [
        "# Here is the url provided for you\n",
        "url='https://raw.githubusercontent.com/MarwaZAH/EDSA_Projects/main/LinearRegProjects/auto.csv'"
      ],
      "execution_count": 2,
      "outputs": []
    },
    {
      "cell_type": "code",
      "metadata": {
        "id": "6ZIl1LDa8fRq"
      },
      "source": [
        "#use pd.read_csv() to import the data\n",
        "cars = pd.read_csv(url)"
      ],
      "execution_count": 3,
      "outputs": []
    },
    {
      "cell_type": "code",
      "metadata": {
        "colab": {
          "base_uri": "https://localhost:8080/"
        },
        "id": "GaT_ZtWmAvdt",
        "outputId": "7e4ff4ff-6c35-40a1-92aa-e332932c4786"
      },
      "source": [
        "print(cars)"
      ],
      "execution_count": 4,
      "outputs": [
        {
          "output_type": "stream",
          "name": "stdout",
          "text": [
            "      mpg  cylinders  displacement  ... year  origin                       name\n",
            "0    18.0          8         307.0  ...   70       1  chevrolet chevelle malibu\n",
            "1    15.0          8         350.0  ...   70       1          buick skylark 320\n",
            "2    18.0          8         318.0  ...   70       1         plymouth satellite\n",
            "3    16.0          8         304.0  ...   70       1              amc rebel sst\n",
            "4    17.0          8         302.0  ...   70       1                ford torino\n",
            "..    ...        ...           ...  ...  ...     ...                        ...\n",
            "392  27.0          4         140.0  ...   82       1            ford mustang gl\n",
            "393  44.0          4          97.0  ...   82       2                  vw pickup\n",
            "394  32.0          4         135.0  ...   82       1              dodge rampage\n",
            "395  28.0          4         120.0  ...   82       1                ford ranger\n",
            "396  31.0          4         119.0  ...   82       1                 chevy s-10\n",
            "\n",
            "[397 rows x 9 columns]\n"
          ]
        }
      ]
    },
    {
      "cell_type": "code",
      "metadata": {
        "colab": {
          "base_uri": "https://localhost:8080/"
        },
        "id": "Kx57ChAdAvio",
        "outputId": "d479c96b-1cae-4180-c672-efb51df51be1"
      },
      "source": [
        "print(cars.keys())"
      ],
      "execution_count": 5,
      "outputs": [
        {
          "output_type": "stream",
          "name": "stdout",
          "text": [
            "Index(['mpg', 'cylinders', 'displacement', 'horsepower', 'weight',\n",
            "       'acceleration', 'year', 'origin', 'name'],\n",
            "      dtype='object')\n"
          ]
        }
      ]
    },
    {
      "cell_type": "code",
      "metadata": {
        "colab": {
          "base_uri": "https://localhost:8080/"
        },
        "id": "p8TRqawZAvl1",
        "outputId": "40a2f18a-210e-4c19-9244-aac79f17035b"
      },
      "source": [
        "type(cars)"
      ],
      "execution_count": 6,
      "outputs": [
        {
          "output_type": "execute_result",
          "data": {
            "text/plain": [
              "pandas.core.frame.DataFrame"
            ]
          },
          "metadata": {},
          "execution_count": 6
        }
      ]
    },
    {
      "cell_type": "code",
      "metadata": {
        "colab": {
          "base_uri": "https://localhost:8080/",
          "height": 414
        },
        "id": "EhPOnjx6Avov",
        "outputId": "89cdf5e7-c976-4234-e372-5f171dd69eb3"
      },
      "source": [
        "# Check the first few obs\n",
        "cars[:6]"
      ],
      "execution_count": 7,
      "outputs": [
        {
          "output_type": "execute_result",
          "data": {
            "text/html": [
              "<div>\n",
              "<style scoped>\n",
              "    .dataframe tbody tr th:only-of-type {\n",
              "        vertical-align: middle;\n",
              "    }\n",
              "\n",
              "    .dataframe tbody tr th {\n",
              "        vertical-align: top;\n",
              "    }\n",
              "\n",
              "    .dataframe thead th {\n",
              "        text-align: right;\n",
              "    }\n",
              "</style>\n",
              "<table border=\"1\" class=\"dataframe\">\n",
              "  <thead>\n",
              "    <tr style=\"text-align: right;\">\n",
              "      <th></th>\n",
              "      <th>mpg</th>\n",
              "      <th>cylinders</th>\n",
              "      <th>displacement</th>\n",
              "      <th>horsepower</th>\n",
              "      <th>weight</th>\n",
              "      <th>acceleration</th>\n",
              "      <th>year</th>\n",
              "      <th>origin</th>\n",
              "      <th>name</th>\n",
              "    </tr>\n",
              "  </thead>\n",
              "  <tbody>\n",
              "    <tr>\n",
              "      <th>0</th>\n",
              "      <td>18.0</td>\n",
              "      <td>8</td>\n",
              "      <td>307.0</td>\n",
              "      <td>130</td>\n",
              "      <td>3504</td>\n",
              "      <td>12.0</td>\n",
              "      <td>70</td>\n",
              "      <td>1</td>\n",
              "      <td>chevrolet chevelle malibu</td>\n",
              "    </tr>\n",
              "    <tr>\n",
              "      <th>1</th>\n",
              "      <td>15.0</td>\n",
              "      <td>8</td>\n",
              "      <td>350.0</td>\n",
              "      <td>165</td>\n",
              "      <td>3693</td>\n",
              "      <td>11.5</td>\n",
              "      <td>70</td>\n",
              "      <td>1</td>\n",
              "      <td>buick skylark 320</td>\n",
              "    </tr>\n",
              "    <tr>\n",
              "      <th>2</th>\n",
              "      <td>18.0</td>\n",
              "      <td>8</td>\n",
              "      <td>318.0</td>\n",
              "      <td>150</td>\n",
              "      <td>3436</td>\n",
              "      <td>11.0</td>\n",
              "      <td>70</td>\n",
              "      <td>1</td>\n",
              "      <td>plymouth satellite</td>\n",
              "    </tr>\n",
              "    <tr>\n",
              "      <th>3</th>\n",
              "      <td>16.0</td>\n",
              "      <td>8</td>\n",
              "      <td>304.0</td>\n",
              "      <td>150</td>\n",
              "      <td>3433</td>\n",
              "      <td>12.0</td>\n",
              "      <td>70</td>\n",
              "      <td>1</td>\n",
              "      <td>amc rebel sst</td>\n",
              "    </tr>\n",
              "    <tr>\n",
              "      <th>4</th>\n",
              "      <td>17.0</td>\n",
              "      <td>8</td>\n",
              "      <td>302.0</td>\n",
              "      <td>140</td>\n",
              "      <td>3449</td>\n",
              "      <td>10.5</td>\n",
              "      <td>70</td>\n",
              "      <td>1</td>\n",
              "      <td>ford torino</td>\n",
              "    </tr>\n",
              "    <tr>\n",
              "      <th>5</th>\n",
              "      <td>15.0</td>\n",
              "      <td>8</td>\n",
              "      <td>429.0</td>\n",
              "      <td>198</td>\n",
              "      <td>4341</td>\n",
              "      <td>10.0</td>\n",
              "      <td>70</td>\n",
              "      <td>1</td>\n",
              "      <td>ford galaxie 500</td>\n",
              "    </tr>\n",
              "  </tbody>\n",
              "</table>\n",
              "</div>"
            ],
            "text/plain": [
              "    mpg  cylinders  displacement  ... year  origin                       name\n",
              "0  18.0          8         307.0  ...   70       1  chevrolet chevelle malibu\n",
              "1  15.0          8         350.0  ...   70       1          buick skylark 320\n",
              "2  18.0          8         318.0  ...   70       1         plymouth satellite\n",
              "3  16.0          8         304.0  ...   70       1              amc rebel sst\n",
              "4  17.0          8         302.0  ...   70       1                ford torino\n",
              "5  15.0          8         429.0  ...   70       1           ford galaxie 500\n",
              "\n",
              "[6 rows x 9 columns]"
            ]
          },
          "metadata": {},
          "execution_count": 7
        }
      ]
    },
    {
      "cell_type": "code",
      "metadata": {
        "colab": {
          "base_uri": "https://localhost:8080/",
          "height": 379
        },
        "id": "QqhtvJlxAvry",
        "outputId": "0423c870-9c13-4002-83a2-ebf2053c0ac9"
      },
      "source": [
        "# Check the last few obs\n",
        "cars[-6:]"
      ],
      "execution_count": 8,
      "outputs": [
        {
          "output_type": "execute_result",
          "data": {
            "text/html": [
              "<div>\n",
              "<style scoped>\n",
              "    .dataframe tbody tr th:only-of-type {\n",
              "        vertical-align: middle;\n",
              "    }\n",
              "\n",
              "    .dataframe tbody tr th {\n",
              "        vertical-align: top;\n",
              "    }\n",
              "\n",
              "    .dataframe thead th {\n",
              "        text-align: right;\n",
              "    }\n",
              "</style>\n",
              "<table border=\"1\" class=\"dataframe\">\n",
              "  <thead>\n",
              "    <tr style=\"text-align: right;\">\n",
              "      <th></th>\n",
              "      <th>mpg</th>\n",
              "      <th>cylinders</th>\n",
              "      <th>displacement</th>\n",
              "      <th>horsepower</th>\n",
              "      <th>weight</th>\n",
              "      <th>acceleration</th>\n",
              "      <th>year</th>\n",
              "      <th>origin</th>\n",
              "      <th>name</th>\n",
              "    </tr>\n",
              "  </thead>\n",
              "  <tbody>\n",
              "    <tr>\n",
              "      <th>391</th>\n",
              "      <td>27.0</td>\n",
              "      <td>4</td>\n",
              "      <td>151.0</td>\n",
              "      <td>90</td>\n",
              "      <td>2950</td>\n",
              "      <td>17.3</td>\n",
              "      <td>82</td>\n",
              "      <td>1</td>\n",
              "      <td>chevrolet camaro</td>\n",
              "    </tr>\n",
              "    <tr>\n",
              "      <th>392</th>\n",
              "      <td>27.0</td>\n",
              "      <td>4</td>\n",
              "      <td>140.0</td>\n",
              "      <td>86</td>\n",
              "      <td>2790</td>\n",
              "      <td>15.6</td>\n",
              "      <td>82</td>\n",
              "      <td>1</td>\n",
              "      <td>ford mustang gl</td>\n",
              "    </tr>\n",
              "    <tr>\n",
              "      <th>393</th>\n",
              "      <td>44.0</td>\n",
              "      <td>4</td>\n",
              "      <td>97.0</td>\n",
              "      <td>52</td>\n",
              "      <td>2130</td>\n",
              "      <td>24.6</td>\n",
              "      <td>82</td>\n",
              "      <td>2</td>\n",
              "      <td>vw pickup</td>\n",
              "    </tr>\n",
              "    <tr>\n",
              "      <th>394</th>\n",
              "      <td>32.0</td>\n",
              "      <td>4</td>\n",
              "      <td>135.0</td>\n",
              "      <td>84</td>\n",
              "      <td>2295</td>\n",
              "      <td>11.6</td>\n",
              "      <td>82</td>\n",
              "      <td>1</td>\n",
              "      <td>dodge rampage</td>\n",
              "    </tr>\n",
              "    <tr>\n",
              "      <th>395</th>\n",
              "      <td>28.0</td>\n",
              "      <td>4</td>\n",
              "      <td>120.0</td>\n",
              "      <td>79</td>\n",
              "      <td>2625</td>\n",
              "      <td>18.6</td>\n",
              "      <td>82</td>\n",
              "      <td>1</td>\n",
              "      <td>ford ranger</td>\n",
              "    </tr>\n",
              "    <tr>\n",
              "      <th>396</th>\n",
              "      <td>31.0</td>\n",
              "      <td>4</td>\n",
              "      <td>119.0</td>\n",
              "      <td>82</td>\n",
              "      <td>2720</td>\n",
              "      <td>19.4</td>\n",
              "      <td>82</td>\n",
              "      <td>1</td>\n",
              "      <td>chevy s-10</td>\n",
              "    </tr>\n",
              "  </tbody>\n",
              "</table>\n",
              "</div>"
            ],
            "text/plain": [
              "      mpg  cylinders  displacement  ... year  origin              name\n",
              "391  27.0          4         151.0  ...   82       1  chevrolet camaro\n",
              "392  27.0          4         140.0  ...   82       1   ford mustang gl\n",
              "393  44.0          4          97.0  ...   82       2         vw pickup\n",
              "394  32.0          4         135.0  ...   82       1     dodge rampage\n",
              "395  28.0          4         120.0  ...   82       1       ford ranger\n",
              "396  31.0          4         119.0  ...   82       1        chevy s-10\n",
              "\n",
              "[6 rows x 9 columns]"
            ]
          },
          "metadata": {},
          "execution_count": 8
        }
      ]
    },
    {
      "cell_type": "code",
      "metadata": {
        "colab": {
          "base_uri": "https://localhost:8080/"
        },
        "id": "rk_Dfy2gAvu4",
        "outputId": "641e0022-ffc6-4e67-a2a6-d2121cfb9064"
      },
      "source": [
        "# check the data information\n",
        "cars.shape"
      ],
      "execution_count": 9,
      "outputs": [
        {
          "output_type": "execute_result",
          "data": {
            "text/plain": [
              "(397, 9)"
            ]
          },
          "metadata": {},
          "execution_count": 9
        }
      ]
    },
    {
      "cell_type": "code",
      "metadata": {
        "colab": {
          "base_uri": "https://localhost:8080/",
          "height": 269
        },
        "id": "mNmpzAkXBStw",
        "outputId": "2a7fa48d-b873-4fa9-e7c4-548548b0b007"
      },
      "source": [
        "# Run desriptive statistics\n",
        "cars.describe().T"
      ],
      "execution_count": 10,
      "outputs": [
        {
          "output_type": "execute_result",
          "data": {
            "text/html": [
              "<div>\n",
              "<style scoped>\n",
              "    .dataframe tbody tr th:only-of-type {\n",
              "        vertical-align: middle;\n",
              "    }\n",
              "\n",
              "    .dataframe tbody tr th {\n",
              "        vertical-align: top;\n",
              "    }\n",
              "\n",
              "    .dataframe thead th {\n",
              "        text-align: right;\n",
              "    }\n",
              "</style>\n",
              "<table border=\"1\" class=\"dataframe\">\n",
              "  <thead>\n",
              "    <tr style=\"text-align: right;\">\n",
              "      <th></th>\n",
              "      <th>count</th>\n",
              "      <th>mean</th>\n",
              "      <th>std</th>\n",
              "      <th>min</th>\n",
              "      <th>25%</th>\n",
              "      <th>50%</th>\n",
              "      <th>75%</th>\n",
              "      <th>max</th>\n",
              "    </tr>\n",
              "  </thead>\n",
              "  <tbody>\n",
              "    <tr>\n",
              "      <th>mpg</th>\n",
              "      <td>397.0</td>\n",
              "      <td>23.515869</td>\n",
              "      <td>7.825804</td>\n",
              "      <td>9.0</td>\n",
              "      <td>17.5</td>\n",
              "      <td>23.0</td>\n",
              "      <td>29.0</td>\n",
              "      <td>46.6</td>\n",
              "    </tr>\n",
              "    <tr>\n",
              "      <th>cylinders</th>\n",
              "      <td>397.0</td>\n",
              "      <td>5.458438</td>\n",
              "      <td>1.701577</td>\n",
              "      <td>3.0</td>\n",
              "      <td>4.0</td>\n",
              "      <td>4.0</td>\n",
              "      <td>8.0</td>\n",
              "      <td>8.0</td>\n",
              "    </tr>\n",
              "    <tr>\n",
              "      <th>displacement</th>\n",
              "      <td>397.0</td>\n",
              "      <td>193.532746</td>\n",
              "      <td>104.379583</td>\n",
              "      <td>68.0</td>\n",
              "      <td>104.0</td>\n",
              "      <td>146.0</td>\n",
              "      <td>262.0</td>\n",
              "      <td>455.0</td>\n",
              "    </tr>\n",
              "    <tr>\n",
              "      <th>weight</th>\n",
              "      <td>397.0</td>\n",
              "      <td>2970.261965</td>\n",
              "      <td>847.904119</td>\n",
              "      <td>1613.0</td>\n",
              "      <td>2223.0</td>\n",
              "      <td>2800.0</td>\n",
              "      <td>3609.0</td>\n",
              "      <td>5140.0</td>\n",
              "    </tr>\n",
              "    <tr>\n",
              "      <th>acceleration</th>\n",
              "      <td>397.0</td>\n",
              "      <td>15.555668</td>\n",
              "      <td>2.749995</td>\n",
              "      <td>8.0</td>\n",
              "      <td>13.8</td>\n",
              "      <td>15.5</td>\n",
              "      <td>17.1</td>\n",
              "      <td>24.8</td>\n",
              "    </tr>\n",
              "    <tr>\n",
              "      <th>year</th>\n",
              "      <td>397.0</td>\n",
              "      <td>75.994962</td>\n",
              "      <td>3.690005</td>\n",
              "      <td>70.0</td>\n",
              "      <td>73.0</td>\n",
              "      <td>76.0</td>\n",
              "      <td>79.0</td>\n",
              "      <td>82.0</td>\n",
              "    </tr>\n",
              "    <tr>\n",
              "      <th>origin</th>\n",
              "      <td>397.0</td>\n",
              "      <td>1.574307</td>\n",
              "      <td>0.802549</td>\n",
              "      <td>1.0</td>\n",
              "      <td>1.0</td>\n",
              "      <td>1.0</td>\n",
              "      <td>2.0</td>\n",
              "      <td>3.0</td>\n",
              "    </tr>\n",
              "  </tbody>\n",
              "</table>\n",
              "</div>"
            ],
            "text/plain": [
              "              count         mean         std  ...     50%     75%     max\n",
              "mpg           397.0    23.515869    7.825804  ...    23.0    29.0    46.6\n",
              "cylinders     397.0     5.458438    1.701577  ...     4.0     8.0     8.0\n",
              "displacement  397.0   193.532746  104.379583  ...   146.0   262.0   455.0\n",
              "weight        397.0  2970.261965  847.904119  ...  2800.0  3609.0  5140.0\n",
              "acceleration  397.0    15.555668    2.749995  ...    15.5    17.1    24.8\n",
              "year          397.0    75.994962    3.690005  ...    76.0    79.0    82.0\n",
              "origin        397.0     1.574307    0.802549  ...     1.0     2.0     3.0\n",
              "\n",
              "[7 rows x 8 columns]"
            ]
          },
          "metadata": {},
          "execution_count": 10
        }
      ]
    },
    {
      "cell_type": "code",
      "metadata": {
        "colab": {
          "base_uri": "https://localhost:8080/",
          "height": 571
        },
        "id": "DmzOJIk6BSxb",
        "outputId": "e3e2fdac-572c-46ec-a8c9-64ca0315b2b1"
      },
      "source": [
        "# Setting the figure size \n",
        "sns.set(rc={'figure.figsize':(10,8)})\n",
        "sns.heatmap(cars.corr(), cmap='RdYlBu', square=True)"
      ],
      "execution_count": 12,
      "outputs": [
        {
          "output_type": "execute_result",
          "data": {
            "text/plain": [
              "<matplotlib.axes._subplots.AxesSubplot at 0x7f2c6eff9a50>"
            ]
          },
          "metadata": {},
          "execution_count": 12
        },
        {
          "output_type": "display_data",
          "data": {
            "image/png": "[encoded data removed]",
            "text/plain": [
              "<Figure size 720x576 with 2 Axes>"
            ]
          },
          "metadata": {}
        }
      ]
    },
    {
      "cell_type": "code",
      "metadata": {
        "colab": {
          "base_uri": "https://localhost:8080/"
        },
        "id": "ahbcp7F1BS0m",
        "outputId": "7f97f0c6-a670-40c7-b3a8-0fe923cb50dc"
      },
      "source": [
        "cars.mpg.shape"
      ],
      "execution_count": 13,
      "outputs": [
        {
          "output_type": "execute_result",
          "data": {
            "text/plain": [
              "(397,)"
            ]
          },
          "metadata": {},
          "execution_count": 13
        }
      ]
    },
    {
      "cell_type": "code",
      "metadata": {
        "id": "84Q27PSGCXhr"
      },
      "source": [
        "X = cars[['cylinders', 'displacement', 'weight', 'acceleration']]\n",
        "y = cars['mpg']"
      ],
      "execution_count": 17,
      "outputs": []
    },
    {
      "cell_type": "code",
      "metadata": {
        "colab": {
          "base_uri": "https://localhost:8080/",
          "height": 535
        },
        "id": "n77XB9zzBS4w",
        "outputId": "4ce9f4e4-8a55-4d67-df6c-a327b35ab75b"
      },
      "source": [
        "# plot scatter plot\n",
        "plt.scatter(cars['weight'], cars['mpg'])\n",
        "plt.xlabel('weight')\n",
        "plt.ylabel('mpg')\n",
        "plt.title('weight vs mpg')"
      ],
      "execution_count": 18,
      "outputs": [
        {
          "output_type": "execute_result",
          "data": {
            "text/plain": [
              "Text(0.5, 1.0, 'weight vs mpg')"
            ]
          },
          "metadata": {},
          "execution_count": 18
        },
        {
          "output_type": "display_data",
          "data": {
            "image/png": "[encoded data removed]",
            "text/plain": [
              "<Figure size 720x576 with 1 Axes>"
            ]
          },
          "metadata": {}
        }
      ]
    },
    {
      "cell_type": "code",
      "metadata": {
        "colab": {
          "base_uri": "https://localhost:8080/",
          "height": 437
        },
        "id": "r8XI5lnSAvxr",
        "outputId": "0c8bcb57-aec8-4749-d15b-822cd6d469a6"
      },
      "source": [
        "# plot linear regression plot.\n",
        "sns.lmplot('weight', 'mpg', data= cars)"
      ],
      "execution_count": 19,
      "outputs": [
        {
          "output_type": "stream",
          "name": "stderr",
          "text": [
            "/usr/local/lib/python3.7/dist-packages/seaborn/_decorators.py:43: FutureWarning: Pass the following variables as keyword args: x, y. From version 0.12, the only valid positional argument will be `data`, and passing other arguments without an explicit keyword will result in an error or misinterpretation.\n",
            "  FutureWarning\n"
          ]
        },
        {
          "output_type": "execute_result",
          "data": {
            "text/plain": [
              "<seaborn.axisgrid.FacetGrid at 0x7f2c6659f650>"
            ]
          },
          "metadata": {},
          "execution_count": 19
        },
        {
          "output_type": "display_data",
          "data": {
            "image/png": "[encoded data removed]",
            "text/plain": [
              "<Figure size 360x360 with 1 Axes>"
            ]
          },
          "metadata": {}
        }
      ]
    },
    {
      "cell_type": "code",
      "metadata": {
        "id": "aGKUzMPeD7Z8"
      },
      "source": [
        "# Import LinearRegression() from sklearn.linear_model\n",
        "from sklearn import linear_model"
      ],
      "execution_count": 21,
      "outputs": []
    },
    {
      "cell_type": "code",
      "metadata": {
        "id": "ZMf37bpVD77j"
      },
      "source": [
        "# Create lm object\n",
        "lm_reg = linear_model.LinearRegression()"
      ],
      "execution_count": 22,
      "outputs": []
    },
    {
      "cell_type": "code",
      "metadata": {
        "colab": {
          "base_uri": "https://localhost:8080/"
        },
        "id": "kKGwugKlD7_h",
        "outputId": "54ac385b-5d4f-4e42-c951-12e9413e09a2"
      },
      "source": [
        "type(lm_reg)"
      ],
      "execution_count": 23,
      "outputs": [
        {
          "output_type": "execute_result",
          "data": {
            "text/plain": [
              "sklearn.linear_model._base.LinearRegression"
            ]
          },
          "metadata": {},
          "execution_count": 23
        }
      ]
    },
    {
      "cell_type": "code",
      "metadata": {
        "colab": {
          "base_uri": "https://localhost:8080/"
        },
        "id": "QBf1xeYBK_3T",
        "outputId": "a71aecc9-929c-4370-f6ac-bb725b55cbc6"
      },
      "source": [
        "# fit the linear regression model\n",
        "lm_reg.fit(X, y)"
      ],
      "execution_count": 25,
      "outputs": [
        {
          "output_type": "execute_result",
          "data": {
            "text/plain": [
              "LinearRegression()"
            ]
          },
          "metadata": {},
          "execution_count": 25
        }
      ]
    },
    {
      "cell_type": "code",
      "metadata": {
        "colab": {
          "base_uri": "https://localhost:8080/"
        },
        "id": "sBDJz03MLAAr",
        "outputId": "3a09a3dc-8825-42fa-bdf7-07610e73d8bc"
      },
      "source": [
        "# Print the intercept \n",
        "print(\"The model intercept is: \",lm_reg.intercept_)"
      ],
      "execution_count": 26,
      "outputs": [
        {
          "output_type": "stream",
          "name": "stdout",
          "text": [
            "The model intercept is:  41.825797107206604\n"
          ]
        }
      ]
    },
    {
      "cell_type": "code",
      "metadata": {
        "colab": {
          "base_uri": "https://localhost:8080/"
        },
        "id": "MMHDt3AZLADs",
        "outputId": "eb5c7a49-db21-4fb8-bb0c-d9dd6dee4526"
      },
      "source": [
        "# Print the coef \n",
        "print(\"The model parameter is: \", lm_reg.coef_)"
      ],
      "execution_count": 27,
      "outputs": [
        {
          "output_type": "stream",
          "name": "stdout",
          "text": [
            "The model parameter is:  [-0.27263968 -0.00697302 -0.00614237  0.17821253]\n"
          ]
        }
      ]
    },
    {
      "cell_type": "code",
      "metadata": {
        "colab": {
          "base_uri": "https://localhost:8080/",
          "height": 175
        },
        "id": "4ZddV3X_LAGz",
        "outputId": "706931a6-5e93-4e61-9ad2-1daca955e3af"
      },
      "source": [
        "coef_df= pd.DataFrame({'Intercept': lm_reg.intercept_,\n",
        "                       'Coef': lm_reg.coef_.flatten()})\n",
        "coef_df"
      ],
      "execution_count": 28,
      "outputs": [
        {
          "output_type": "execute_result",
          "data": {
            "text/html": [
              "<div>\n",
              "<style scoped>\n",
              "    .dataframe tbody tr th:only-of-type {\n",
              "        vertical-align: middle;\n",
              "    }\n",
              "\n",
              "    .dataframe tbody tr th {\n",
              "        vertical-align: top;\n",
              "    }\n",
              "\n",
              "    .dataframe thead th {\n",
              "        text-align: right;\n",
              "    }\n",
              "</style>\n",
              "<table border=\"1\" class=\"dataframe\">\n",
              "  <thead>\n",
              "    <tr style=\"text-align: right;\">\n",
              "      <th></th>\n",
              "      <th>Intercept</th>\n",
              "      <th>Coef</th>\n",
              "    </tr>\n",
              "  </thead>\n",
              "  <tbody>\n",
              "    <tr>\n",
              "      <th>0</th>\n",
              "      <td>41.825797</td>\n",
              "      <td>-0.272640</td>\n",
              "    </tr>\n",
              "    <tr>\n",
              "      <th>1</th>\n",
              "      <td>41.825797</td>\n",
              "      <td>-0.006973</td>\n",
              "    </tr>\n",
              "    <tr>\n",
              "      <th>2</th>\n",
              "      <td>41.825797</td>\n",
              "      <td>-0.006142</td>\n",
              "    </tr>\n",
              "    <tr>\n",
              "      <th>3</th>\n",
              "      <td>41.825797</td>\n",
              "      <td>0.178213</td>\n",
              "    </tr>\n",
              "  </tbody>\n",
              "</table>\n",
              "</div>"
            ],
            "text/plain": [
              "   Intercept      Coef\n",
              "0  41.825797 -0.272640\n",
              "1  41.825797 -0.006973\n",
              "2  41.825797 -0.006142\n",
              "3  41.825797  0.178213"
            ]
          },
          "metadata": {},
          "execution_count": 28
        }
      ]
    },
    {
      "cell_type": "code",
      "metadata": {
        "colab": {
          "base_uri": "https://localhost:8080/",
          "height": 175
        },
        "id": "1RNnnRXkLU0L",
        "outputId": "866dabea-4c7f-4e2d-c30c-a020778380e0"
      },
      "source": [
        "results = pd.DataFrame(list(zip(cars.columns[1:], lm_reg.coef_)), \n",
        "             columns=[\"Variable\", \"Coefficient\"])\n",
        "results"
      ],
      "execution_count": 29,
      "outputs": [
        {
          "output_type": "execute_result",
          "data": {
            "text/html": [
              "<div>\n",
              "<style scoped>\n",
              "    .dataframe tbody tr th:only-of-type {\n",
              "        vertical-align: middle;\n",
              "    }\n",
              "\n",
              "    .dataframe tbody tr th {\n",
              "        vertical-align: top;\n",
              "    }\n",
              "\n",
              "    .dataframe thead th {\n",
              "        text-align: right;\n",
              "    }\n",
              "</style>\n",
              "<table border=\"1\" class=\"dataframe\">\n",
              "  <thead>\n",
              "    <tr style=\"text-align: right;\">\n",
              "      <th></th>\n",
              "      <th>Variable</th>\n",
              "      <th>Coefficient</th>\n",
              "    </tr>\n",
              "  </thead>\n",
              "  <tbody>\n",
              "    <tr>\n",
              "      <th>0</th>\n",
              "      <td>cylinders</td>\n",
              "      <td>-0.272640</td>\n",
              "    </tr>\n",
              "    <tr>\n",
              "      <th>1</th>\n",
              "      <td>displacement</td>\n",
              "      <td>-0.006973</td>\n",
              "    </tr>\n",
              "    <tr>\n",
              "      <th>2</th>\n",
              "      <td>horsepower</td>\n",
              "      <td>-0.006142</td>\n",
              "    </tr>\n",
              "    <tr>\n",
              "      <th>3</th>\n",
              "      <td>weight</td>\n",
              "      <td>0.178213</td>\n",
              "    </tr>\n",
              "  </tbody>\n",
              "</table>\n",
              "</div>"
            ],
            "text/plain": [
              "       Variable  Coefficient\n",
              "0     cylinders    -0.272640\n",
              "1  displacement    -0.006973\n",
              "2    horsepower    -0.006142\n",
              "3        weight     0.178213"
            ]
          },
          "metadata": {},
          "execution_count": 29
        }
      ]
    },
    {
      "cell_type": "code",
      "metadata": {
        "id": "97o74FaHJv3E"
      },
      "source": [
        "####  Splitting The Dataset Using sk-learn  ####"
      ],
      "execution_count": 30,
      "outputs": []
    },
    {
      "cell_type": "code",
      "metadata": {
        "id": "Dw8uYREEIvb8"
      },
      "source": [
        "# Import train_test_split from sklearn.model_selection\n",
        "from sklearn.model_selection import train_test_split"
      ],
      "execution_count": 31,
      "outputs": []
    },
    {
      "cell_type": "code",
      "metadata": {
        "id": "GQfTKbV8IiH7"
      },
      "source": [
        "# Create the training and test sets\n",
        "X_train, X_test, y_train, y_test= train_test_split( X, y, \n",
        "                                                   test_size=0.3, \n",
        "                                                   random_state=10121)"
      ],
      "execution_count": 32,
      "outputs": []
    },
    {
      "cell_type": "code",
      "metadata": {
        "colab": {
          "base_uri": "https://localhost:8080/"
        },
        "id": "AupSflyLI7Dn",
        "outputId": "f38f853d-48ad-47e1-94c2-65267bc91e45"
      },
      "source": [
        "# Print shapes of the training and testing data sets\n",
        "print(X_train.shape, X_test.shape, y_train.shape, y_test.shape)"
      ],
      "execution_count": 33,
      "outputs": [
        {
          "output_type": "stream",
          "name": "stdout",
          "text": [
            "(277, 4) (120, 4) (277,) (120,)\n"
          ]
        }
      ]
    },
    {
      "cell_type": "code",
      "metadata": {
        "id": "RDS4uGrYJGkb"
      },
      "source": [
        "####### Model Training ########\n",
        "# Create a Linear Regression object\n",
        "# Import LinearRegression from sklear.linear_model\n",
        "from sklearn.linear_model import LinearRegression\n",
        "lm = LinearRegression()"
      ],
      "execution_count": 35,
      "outputs": []
    },
    {
      "cell_type": "code",
      "metadata": {
        "colab": {
          "base_uri": "https://localhost:8080/"
        },
        "id": "UTaBvTA8JGoy",
        "outputId": "d10ff6c9-20c8-4c11-fa8d-f5b521660942"
      },
      "source": [
        "# fit the model on the training set\n",
        "lm.fit(X_train, y_train)"
      ],
      "execution_count": 36,
      "outputs": [
        {
          "output_type": "execute_result",
          "data": {
            "text/plain": [
              "LinearRegression()"
            ]
          },
          "metadata": {},
          "execution_count": 36
        }
      ]
    },
    {
      "cell_type": "code",
      "metadata": {
        "id": "YzP0C7xFJGy1"
      },
      "source": [
        "# Predict on train set\n",
        "pred_train = lm.predict(X_train)\n",
        "# Predict on test set\n",
        "pred_test = lm.predict(X_test)"
      ],
      "execution_count": 37,
      "outputs": []
    },
    {
      "cell_type": "code",
      "metadata": {
        "colab": {
          "base_uri": "https://localhost:8080/"
        },
        "id": "9MNzMYJ0KScG",
        "outputId": "b6f5a228-dc31-497e-eab2-911db518d268"
      },
      "source": [
        "#### Model Evaluation #####\n",
        "# Import the necessary metrics\n",
        "from sklearn.metrics import mean_squared_error, r2_score, mean_absolute_error\n",
        "# The R^2 Score\n",
        "print(\"The R^2 on the train set is: {:.4f}\".format(r2_score(pred_train, y_train)))\n",
        "print(\"The R^2 on the test set is: {:.4f}\".format(r2_score(pred_test, y_test)))\n",
        "print(\"The RMSE on the train set is: {:.4f}\".\\\n",
        "      format(np.sqrt(mean_squared_error(y_train, pred_train))))\n",
        "print(\"The RMSE on the test set is: {:.4f}\".\\\n",
        "      format(np.sqrt(mean_squared_error(y_test, pred_test))))\n",
        "print(\"The MAE on the train set is: {:.4f}\".\\\n",
        "      format(np.sqrt(mean_absolute_error(y_train, pred_train))))\n",
        "print(\"The MAE on the test set is: {:.4f}\".\\\n",
        "      format(np.sqrt(mean_absolute_error(y_test, pred_test))))"
      ],
      "execution_count": 43,
      "outputs": [
        {
          "output_type": "stream",
          "name": "stdout",
          "text": [
            "The R^2 on the train set is: 0.5584\n",
            "The R^2 on the test set is: 0.5469\n",
            "The RMSE on the train set is: 4.2666\n",
            "The RMSE on the test set is: 4.3554\n",
            "The MAE on the train set is: 1.7995\n",
            "The MAE on the test set is: 1.8328\n"
          ]
        }
      ]
    },
    {
      "cell_type": "code",
      "metadata": {
        "id": "pgtbYlCIKTAW"
      },
      "source": [
        "# calculate the residuals\n",
        "resid_train = y_train - pred_train\n",
        "resid_test = y_test-pred_test"
      ],
      "execution_count": 44,
      "outputs": []
    },
    {
      "cell_type": "code",
      "metadata": {
        "colab": {
          "base_uri": "https://localhost:8080/",
          "height": 359
        },
        "id": "I54Z5TXgIL9F",
        "outputId": "55e8d252-b0d8-4099-8ea4-dd1d71d09063"
      },
      "source": [
        "# Scatter plot the training data\n",
        "plt.figure(figsize= (12, 6))\n",
        "train = plt.scatter(x = pred_train, y = resid_train , c = 'b', alpha=0.5)\n",
        "\n",
        "# Scatter plot the testing data\n",
        "test = plt.scatter(pred_test, resid_test , c = 'r', alpha=0.5)\n",
        "\n",
        "# Plot a horizontal axis line at 0\n",
        "plt.hlines(y = 0, xmin = -10, xmax = 50)\n",
        "\n",
        "# Labels\n",
        "plt.legend((train, test), ('Training','Test'), loc='upper left')\n",
        "plt.title('Residual Plots')\n",
        "plt.show()"
      ],
      "execution_count": 45,
      "outputs": [
        {
          "output_type": "display_data",
          "data": {
            "image/png": "[encoded data removed]",
            "text/plain": [
              "<Figure size 864x432 with 1 Axes>"
            ]
          },
          "metadata": {}
        }
      ]
    },
    {
      "cell_type": "code",
      "metadata": {
        "id": "ESt8VaI28fXK"
      },
      "source": [
        "############# Importing Ridge Regression submodule ###############\n",
        "\n",
        "# Import Ridge regression from sklearn.linear_model\n",
        "from sklearn.linear_model import Ridge"
      ],
      "execution_count": 46,
      "outputs": []
    },
    {
      "cell_type": "code",
      "metadata": {
        "id": "2JBZ1aUT8fZ3"
      },
      "source": [
        "# Create Ridge Regression object with the default parameters\n",
        "r = Ridge()"
      ],
      "execution_count": 47,
      "outputs": []
    },
    {
      "cell_type": "code",
      "metadata": {
        "colab": {
          "base_uri": "https://localhost:8080/"
        },
        "id": "UseQ3I8K8fcc",
        "outputId": "afcbc2a1-83d5-4222-af68-d5da2ba79afd"
      },
      "source": [
        "# Ridge Regression Parameters\n",
        "\n",
        "# get the parameters of ridge regression\n",
        "r.get_params()\n"
      ],
      "execution_count": 48,
      "outputs": [
        {
          "output_type": "execute_result",
          "data": {
            "text/plain": [
              "{'alpha': 1.0,\n",
              " 'copy_X': True,\n",
              " 'fit_intercept': True,\n",
              " 'max_iter': None,\n",
              " 'normalize': 'deprecated',\n",
              " 'positive': False,\n",
              " 'random_state': None,\n",
              " 'solver': 'auto',\n",
              " 'tol': 0.001}"
            ]
          },
          "metadata": {},
          "execution_count": 48
        }
      ]
    },
    {
      "cell_type": "code",
      "metadata": {
        "colab": {
          "base_uri": "https://localhost:8080/"
        },
        "id": "xXuuju_o8fgj",
        "outputId": "5fdd5ca6-e694-455e-c128-11fe93c35910"
      },
      "source": [
        "## Fit the ridge regression\n",
        "r.fit(X, y)"
      ],
      "execution_count": 49,
      "outputs": [
        {
          "output_type": "execute_result",
          "data": {
            "text/plain": [
              "Ridge()"
            ]
          },
          "metadata": {},
          "execution_count": 49
        }
      ]
    },
    {
      "cell_type": "code",
      "metadata": {
        "colab": {
          "base_uri": "https://localhost:8080/"
        },
        "id": "vy11fnu68flj",
        "outputId": "25ec16f3-5efc-4492-b3e8-6d8edf55278c"
      },
      "source": [
        "## Access the intercept\n",
        "r.intercept_"
      ],
      "execution_count": 50,
      "outputs": [
        {
          "output_type": "execute_result",
          "data": {
            "text/plain": [
              "41.821866659452155"
            ]
          },
          "metadata": {},
          "execution_count": 50
        }
      ]
    },
    {
      "cell_type": "code",
      "metadata": {
        "colab": {
          "base_uri": "https://localhost:8080/"
        },
        "id": "33Vdn1xH8fop",
        "outputId": "1504fa82-735b-4d4b-b721-9cf8a0d2b2ef"
      },
      "source": [
        "## Access the coefficients\n",
        "r.coef_"
      ],
      "execution_count": 51,
      "outputs": [
        {
          "output_type": "execute_result",
          "data": {
            "text/plain": [
              "array([-0.27014855, -0.00701216, -0.00614251,  0.17810403])"
            ]
          },
          "metadata": {},
          "execution_count": 51
        }
      ]
    },
    {
      "cell_type": "code",
      "metadata": {
        "colab": {
          "base_uri": "https://localhost:8080/"
        },
        "id": "hdE1IBw7SA0C",
        "outputId": "0fdfe167-1457-4125-b44a-956065be6fa1"
      },
      "source": [
        "from sklearn.linear_model import LinearRegression\n",
        "lreg = LinearRegression()\n",
        "\n",
        "lreg.fit(X, y)"
      ],
      "execution_count": 53,
      "outputs": [
        {
          "output_type": "execute_result",
          "data": {
            "text/plain": [
              "LinearRegression()"
            ]
          },
          "metadata": {},
          "execution_count": 53
        }
      ]
    },
    {
      "cell_type": "code",
      "metadata": {
        "colab": {
          "base_uri": "https://localhost:8080/"
        },
        "id": "2AVYPh0aSHtf",
        "outputId": "5212c288-9bbf-4d74-e255-b91485823d62"
      },
      "source": [
        "## Linear Regression coefficients\n",
        "lreg.coef_"
      ],
      "execution_count": 54,
      "outputs": [
        {
          "output_type": "execute_result",
          "data": {
            "text/plain": [
              "array([-0.27263968, -0.00697302, -0.00614237,  0.17821253])"
            ]
          },
          "metadata": {},
          "execution_count": 54
        }
      ]
    },
    {
      "cell_type": "code",
      "metadata": {
        "colab": {
          "base_uri": "https://localhost:8080/"
        },
        "id": "C5wovcvqSPtr",
        "outputId": "466d6ff4-3443-4e6c-af24-bacaece0badc"
      },
      "source": [
        "## Linear Regression intercepabst\n",
        "lreg.intercept_"
      ],
      "execution_count": 55,
      "outputs": [
        {
          "output_type": "execute_result",
          "data": {
            "text/plain": [
              "41.825797107206604"
            ]
          },
          "metadata": {},
          "execution_count": 55
        }
      ]
    },
    {
      "cell_type": "code",
      "metadata": {
        "colab": {
          "base_uri": "https://localhost:8080/",
          "height": 489
        },
        "id": "A1Oa9UhIOm_1",
        "outputId": "4ddd0fdc-ca5e-4b11-bdba-b791b24d5e74"
      },
      "source": [
        "# It is better to plot the coefficient to see the difference\n",
        "plt.plot(r.coef_)\n",
        "plt.plot(lreg.coef_, c = 'red')\n",
        "plt.show()"
      ],
      "execution_count": 56,
      "outputs": [
        {
          "output_type": "display_data",
          "data": {
            "image/png": "[encoded data removed]",
            "text/plain": [
              "<Figure size 720x576 with 1 Axes>"
            ]
          },
          "metadata": {}
        }
      ]
    },
    {
      "cell_type": "code",
      "metadata": {
        "colab": {
          "base_uri": "https://localhost:8080/"
        },
        "id": "SAO5CF1FOnES",
        "outputId": "8e11bf22-d634-4f45-92fe-f002290aafef"
      },
      "source": [
        "## See the difference between the lowest coefficient values in both regression\n",
        "print(np.min(r.coef_), np.min(lreg.coef_))"
      ],
      "execution_count": 57,
      "outputs": [
        {
          "output_type": "stream",
          "name": "stdout",
          "text": [
            "-0.2701485485838084 -0.2726396838546142\n"
          ]
        }
      ]
    },
    {
      "cell_type": "code",
      "metadata": {
        "colab": {
          "base_uri": "https://localhost:8080/"
        },
        "id": "V2jt47-nOnHL",
        "outputId": "e6189799-3e1d-424d-9ac8-00ee796481ac"
      },
      "source": [
        "# Set fit_intercept to False\n",
        "r_cent = Ridge(fit_intercept=False)\n",
        "\n",
        "# Fit ridge regression\n",
        "r_cent.fit(X, y)"
      ],
      "execution_count": 58,
      "outputs": [
        {
          "output_type": "execute_result",
          "data": {
            "text/plain": [
              "Ridge(fit_intercept=False)"
            ]
          },
          "metadata": {},
          "execution_count": 58
        }
      ]
    },
    {
      "cell_type": "code",
      "metadata": {
        "colab": {
          "base_uri": "https://localhost:8080/",
          "height": 485
        },
        "id": "8zUymsXfOnJj",
        "outputId": "69146a71-9e19-4eb0-cc0f-942ae671eea8"
      },
      "source": [
        "## Plot the coefficients\n",
        "plt.plot(r_cent.coef_)\n",
        "plt.plot(lreg.coef_, c = 'red')\n",
        "plt.show()"
      ],
      "execution_count": 59,
      "outputs": [
        {
          "output_type": "display_data",
          "data": {
            "image/png": "[encoded data removed]",
            "text/plain": [
              "<Figure size 720x576 with 1 Axes>"
            ]
          },
          "metadata": {}
        }
      ]
    },
    {
      "cell_type": "code",
      "metadata": {
        "id": "1e5WqVLUOnMV"
      },
      "source": [
        ""
      ],
      "execution_count": null,
      "outputs": []
    },
    {
      "cell_type": "code",
      "metadata": {
        "id": "0wtpykKEOnPQ"
      },
      "source": [
        ""
      ],
      "execution_count": null,
      "outputs": []
    }
  ]
}